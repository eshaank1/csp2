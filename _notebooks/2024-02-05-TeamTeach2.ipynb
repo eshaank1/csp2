{
 "cells": [
  {
   "cell_type": "markdown",
   "metadata": {},
   "source": [
    "---\n",
    "toc: true\n",
    "comments: false\n",
    "layout: post\n",
    "title: Deployment Team Teach\n",
    "type: tangibles\n",
    "---"
   ]
  },
  {
   "cell_type": "markdown",
   "metadata": {},
   "source": [
    "**Deployment**"
   ]
  },
  {
   "cell_type": "markdown",
   "metadata": {},
   "source": [
    "Creating an AWS EC2 Instance:\n",
    "\n",
    "1. Navigate to the AWS Management Console and log in to your AWS account.\n",
    "2. Go to the EC2 Dashboard and click on the \"Launch Instance\" button.\n",
    "3. Choose an Amazon Machine Image (AMI) based on your requirements, such as Amazon Linux, Ubuntu, or any other supported OS.\n",
    "4. Select an instance type based on your application's needs, considering factors like CPU, memory, and storage.\n",
    "5. Configure instance details, such as the number of instances, network settings, and IAM role if required.\n",
    "6. Add storage volumes as needed for your application's data.\n",
    "7. Configure security groups to control inbound and outbound traffic to the instance.\n",
    "8. Review and launch the instance."
   ]
  },
  {
   "cell_type": "markdown",
   "metadata": {},
   "source": [
    "Understanding Docker:\n",
    "\n",
    "Employed for hosting a Web Application. A Docker container sets up an environment housing the Web Application code along with all the necessary dependencies (like requirements.txt for Python). Docker stands as an open platform facilitating the development, transportation, and execution of applications."
   ]
  },
  {
   "cell_type": "markdown",
   "metadata": {},
   "source": [
    "Understanding CORS and its Importance:\n",
    "\n",
    "CORS (Cross-Origin Resource Sharing) is a security mechanism that allows web servers to specify which origins (domains) are permitted to access the resources on a web page.\n",
    "It's crucial for security because it prevents malicious websites from accessing sensitive data on other websites.\n",
    "Without CORS, browsers restrict cross-origin requests, meaning JavaScript on one domain cannot make requests to another domain."
   ]
  },
  {
   "cell_type": "markdown",
   "metadata": {},
   "source": [
    "CORS Configuration for Localhost and Deployment:\n",
    "\n",
    "Localhost Support: During development, allow requests from localhost on the port your frontend runs (e.g., http://localhost:3000).\n",
    "\n",
    "Deployment Verification: For production, update CORS to permit requests from the deployed domain(s) (e.g., https://example.com). Ensure secure settings and test thoroughly."
   ]
  },
  {
   "cell_type": "markdown",
   "metadata": {},
   "source": [
    "Purpose of DNS in Web Application Deployment:\n",
    "\n",
    "DNS (Domain Name System) acts like a phonebook for the internet, translating domain names into IP addresses.\n",
    "In web application deployment, DNS plays a crucial role in directing users to the correct servers hosting the application.\n",
    "It allows users to access your web application by typing a human-readable domain name (e.g., example.com) instead of remembering complex IP addresses.\n",
    "\n",
    "ex: Amazon Route 53\n",
    "- Part of AWS ecosystem offering scalable and highly available DNS services with advanced routing and traffic management features."
   ]
  },
  {
   "cell_type": "markdown",
   "metadata": {},
   "source": []
  }
 ],
 "metadata": {
  "language_info": {
   "name": "python"
  },
  "orig_nbformat": 4
 },
 "nbformat": 4,
 "nbformat_minor": 2
}
