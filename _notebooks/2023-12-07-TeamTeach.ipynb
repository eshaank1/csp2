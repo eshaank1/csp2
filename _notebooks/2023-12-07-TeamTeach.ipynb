{
 "cells": [
  {
   "cell_type": "markdown",
   "metadata": {},
   "source": [
    "---\n",
    "toc: true\n",
    "comments: false\n",
    "layout: post\n",
    "title: Digital Divide Team Teach\n",
    "type: tangibles\n",
    "---"
   ]
  },
  {
   "cell_type": "markdown",
   "metadata": {},
   "source": []
  },
  {
   "cell_type": "markdown",
   "metadata": {},
   "source": [
    "**Digital Divide**"
   ]
  },
  {
   "cell_type": "markdown",
   "metadata": {},
   "source": [
    "The digital divide is the gap between those with Internet access and those without it. This gap can be influenced by factors such as socio-economic status, geography, education, and income, creating inequalities in access to digital resources and opportunities."
   ]
  },
  {
   "cell_type": "markdown",
   "metadata": {},
   "source": [
    "### How Socioeconomic, Geographic, and Demographic Characteristics Affect Internet Access"
   ]
  },
  {
   "cell_type": "markdown",
   "metadata": {},
   "source": [
    "Socioeconomic Factors:\n",
    "- Income Gap: lower income individuals and families may face challenges to afford internet services\n",
    "- Employment Opportunities: internet access is important for searching jobs and overall professional opportunities\n",
    "\n",
    "Geographic Factors:\n",
    "- Rural vs. Urban Areas: rural areas lack the infrastructure needed to establish high-speed internet while urban areas have more quality access\n",
    "- Global Gap: there are disparities in internet access globally. More developed countries have a better foundation while less developed countries don't\n",
    "\n",
    "Demographic Factors:\n",
    "- Age: generations of younger people have more access to internet due to education and work than older generations\n",
    "- Gender: in some regions women have less access to the internet than men\n"
   ]
  },
  {
   "cell_type": "markdown",
   "metadata": {},
   "source": [
    "### Popcorn Hack 1"
   ]
  },
  {
   "cell_type": "markdown",
   "metadata": {},
   "source": [
    "How does the income gap affect different marginalized communities? Provide examples.\n",
    "\n",
    "Answer:"
   ]
  },
  {
   "cell_type": "markdown",
   "metadata": {},
   "source": [
    "### Digital Divide can Affect Individuals and Groups"
   ]
  },
  {
   "cell_type": "markdown",
   "metadata": {},
   "source": [
    "Healthcare Aspect:\n",
    "- individuals or families without access to the internet lose telemedicine services\n",
    "- Limited to only in-person consultation\n",
    "- limited access to online resources about health\n",
    "\n",
    "Cultural Aspect:\n",
    "- less access to information about other cultures\n",
    "- can lead to language barriers\n",
    "- can cause greater cultural gaps"
   ]
  },
  {
   "cell_type": "markdown",
   "metadata": {},
   "source": [
    "### Digital Divide raises isssues of Equity, Access, and Influence"
   ]
  },
  {
   "cell_type": "markdown",
   "metadata": {},
   "source": []
  },
  {
   "cell_type": "markdown",
   "metadata": {},
   "source": [
    "### Digital Divide is Affected by the actions of Individuals, Organizations, and Governments"
   ]
  },
  {
   "cell_type": "markdown",
   "metadata": {},
   "source": []
  },
  {
   "cell_type": "markdown",
   "metadata": {},
   "source": [
    "### Popcorn Hack 2"
   ]
  },
  {
   "cell_type": "markdown",
   "metadata": {},
   "source": []
  },
  {
   "cell_type": "markdown",
   "metadata": {},
   "source": [
    "### Homework Hack 1"
   ]
  },
  {
   "cell_type": "markdown",
   "metadata": {},
   "source": []
  },
  {
   "cell_type": "markdown",
   "metadata": {},
   "source": [
    "### Homework Hack 2"
   ]
  },
  {
   "cell_type": "markdown",
   "metadata": {},
   "source": []
  }
 ],
 "metadata": {
  "language_info": {
   "name": "python"
  }
 },
 "nbformat": 4,
 "nbformat_minor": 2
}
